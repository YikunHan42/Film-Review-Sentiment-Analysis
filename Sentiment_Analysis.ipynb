{
  "cells": [
    {
      "cell_type": "markdown",
      "metadata": {
        "id": "N8fnN7Zjn-qt"
      },
      "source": [
        "import libraries"
      ]
    },
    {
      "cell_type": "code",
      "execution_count": null,
      "metadata": {
        "colab": {
          "base_uri": "https://localhost:8080/"
        },
        "id": "UekXXEz2oAsd",
        "outputId": "c52e1874-3038-4ded-90de-bbc142dd2981"
      },
      "outputs": [
        {
          "name": "stdout",
          "output_type": "stream",
          "text": [
            "[nltk_data] Downloading package punkt to /root/nltk_data...\n",
            "[nltk_data]   Package punkt is already up-to-date!\n"
          ]
        }
      ],
      "source": [
        "import pandas as pd # 数据处理库\n",
        "import numpy as np # 数组/向量库\n",
        "import matplotlib.pyplot as plt # 画图库\n",
        "import seaborn as sns # 画图库\n",
        "import nltk # NLP库\n",
        "nltk.download('punkt') # nltk数据源\n",
        "\n",
        "from nltk.tokenize import word_tokenize # 分词\n",
        "from keras.preprocessing.text import Tokenizer\n",
        "from keras.preprocessing.sequence import pad_sequences # 向量补齐\n",
        "from keras.models import Sequential # 一种序列化的数据格式\n",
        "from keras.layers import Embedding, LSTM, Dense, Dropout #embedding其实就是个映射，文本数据域指向数值域；长短期记忆人工神经网络；全连接层；丢弃数据\n",
        "from sklearn.preprocessing import LabelEncoder\n",
        "\n",
        "import warnings # 避免warning\n",
        "warnings.filterwarnings('ignore')\n",
        "sns.set()\n"
      ]
    },
    {
      "cell_type": "markdown",
      "metadata": {
        "id": "Y2COb40XoAKX"
      },
      "source": [
        "importing files"
      ]
    },
    {
      "cell_type": "code",
      "execution_count": null,
      "metadata": {
        "colab": {
          "base_uri": "https://localhost:8080/"
        },
        "id": "l7HGACiBpcjw",
        "outputId": "471b18b0-1a7c-4a24-9392-e379b412d38c"
      },
      "outputs": [
        {
          "name": "stdout",
          "output_type": "stream",
          "text": [
            "Drive already mounted at /content/drive; to attempt to forcibly remount, call drive.mount(\"/content/drive\", force_remount=True).\n"
          ]
        }
      ],
      "source": [
        "from google.colab import drive # google云盘导入\n",
        "drive.mount('/content/drive')"
      ]
    },
    {
      "cell_type": "markdown",
      "metadata": {
        "id": "RjZaMdCVpw9M"
      },
      "source": [
        "importing data"
      ]
    },
    {
      "cell_type": "code",
      "execution_count": null,
      "metadata": {
        "id": "JTAccy-Gpe4q"
      },
      "outputs": [],
      "source": [
        "imdb_train = pd.read_csv('/content/drive/My Drive/blog_train.csv') # 读入训练集\n",
        "imdb_train.head()\n",
        "imdb_test = pd.read_csv('/content/drive/My Drive/blog_test.csv') # 读入测试集"
      ]
    },
    {
      "cell_type": "markdown",
      "metadata": {
        "id": "M83xE_YGsUMz"
      },
      "source": [
        "relatively balanced dataset"
      ]
    },
    {
      "cell_type": "code",
      "execution_count": null,
      "metadata": {
        "colab": {
          "base_uri": "https://localhost:8080/"
        },
        "id": "zuIYUndnpv_k",
        "outputId": "6b8e5bd9-d346-441a-f8ec-9435ffb6cb8d"
      },
      "outputs": [
        {
          "data": {
            "text/plain": [
              "1    3625\n",
              "0    2752\n",
              "Name: label, dtype: int64"
            ]
          },
          "execution_count": 167,
          "metadata": {},
          "output_type": "execute_result"
        }
      ],
      "source": [
        "imdb_train.label.value_counts() # 平衡数据集"
      ]
    },
    {
      "cell_type": "markdown",
      "metadata": {
        "id": "_3cOw0VNsf-l"
      },
      "source": [
        "tokenizer demo"
      ]
    },
    {
      "cell_type": "code",
      "execution_count": null,
      "metadata": {
        "colab": {
          "base_uri": "https://localhost:8080/"
        },
        "id": "ZWmQ0wRVqUmI",
        "outputId": "123d4dde-6fe8-4f32-eda7-af365135b3fb"
      },
      "outputs": [
        {
          "name": "stdout",
          "output_type": "stream",
          "text": [
            "besides that stupid Brokeback Mountain crap)..\n",
            "['besides', 'that', 'stupid', 'Brokeback', 'Mountain', 'crap', ')', '..']\n"
          ]
        }
      ],
      "source": [
        "text = imdb_train['sentence'][0]\n",
        "print(text) \n",
        "print(word_tokenize(text)) # 分词的演示"
      ]
    },
    {
      "cell_type": "code",
      "execution_count": null,
      "metadata": {
        "id": "ZHMEADlcq9xo"
      },
      "outputs": [],
      "source": [
        "corpus = []\n",
        "for text in imdb_train['sentence']:\n",
        "    words = [word.lower() for word in word_tokenize(text)]\n",
        "    corpus.append(words) # 变小写 "
      ]
    },
    {
      "cell_type": "code",
      "execution_count": null,
      "metadata": {
        "colab": {
          "base_uri": "https://localhost:8080/"
        },
        "id": "lnZi_FH3rccg",
        "outputId": "22786783-09ec-452b-93b5-a44fbc3a3dac"
      },
      "outputs": [
        {
          "name": "stdout",
          "output_type": "stream",
          "text": [
            "6377\n"
          ]
        }
      ],
      "source": [
        "num_words = len(corpus) # 获取长度\n",
        "print(num_words)"
      ]
    },
    {
      "cell_type": "code",
      "execution_count": null,
      "metadata": {
        "colab": {
          "base_uri": "https://localhost:8080/"
        },
        "id": "dKaY1vvjrii_",
        "outputId": "67f5d2d2-bcc5-4ef4-a9ef-590b7dea0b80"
      },
      "outputs": [
        {
          "data": {
            "text/plain": [
              "(6377, 2)"
            ]
          },
          "execution_count": 171,
          "metadata": {},
          "output_type": "execute_result"
        }
      ],
      "source": [
        "imdb_train.shape # 向量 6377 * 2"
      ]
    },
    {
      "cell_type": "code",
      "execution_count": null,
      "metadata": {
        "id": "s2AzD0Zxrljb"
      },
      "outputs": [],
      "source": [
        "X_train = imdb_train.sentence # 训练数据集输入\n",
        "y_train = imdb_train.label # 训练数据集输出\n",
        "X_test = imdb_test.sentence # 测试数据集输入\n",
        "y_test = imdb_test.label # 测试数据集输出"
      ]
    },
    {
      "cell_type": "code",
      "execution_count": null,
      "metadata": {
        "colab": {
          "base_uri": "https://localhost:8080/"
        },
        "id": "-AmYdgichKQP",
        "outputId": "9f44273d-eaa7-4a9f-ff6f-2ca94a79e516"
      },
      "outputs": [
        {
          "data": {
            "text/plain": [
              "pandas.core.series.Series"
            ]
          },
          "execution_count": 173,
          "metadata": {},
          "output_type": "execute_result"
        }
      ],
      "source": [
        "type(X_train)"
      ]
    },
    {
      "cell_type": "code",
      "execution_count": null,
      "metadata": {
        "colab": {
          "base_uri": "https://localhost:8080/"
        },
        "id": "K5a7dFuPtiqN",
        "outputId": "990262b8-468f-4a24-a42a-42741e2bab37"
      },
      "outputs": [
        {
          "data": {
            "text/plain": [
              "pandas.core.series.Series"
            ]
          },
          "execution_count": 174,
          "metadata": {},
          "output_type": "execute_result"
        }
      ],
      "source": [
        "tokenizer = Tokenizer(num_words) # 创建分词对象\n",
        "tokenizer.fit_on_texts(X_train) # 训练\n",
        "type(X_train)"
      ]
    },
    {
      "cell_type": "code",
      "execution_count": null,
      "metadata": {
        "colab": {
          "base_uri": "https://localhost:8080/"
        },
        "id": "iayd5JIUvfEM",
        "outputId": "c5352b6d-b9c8-4f41-9bfd-3c5a63633ab1"
      },
      "outputs": [
        {
          "data": {
            "text/plain": [
              "list"
            ]
          },
          "execution_count": 175,
          "metadata": {},
          "output_type": "execute_result"
        }
      ],
      "source": [
        "X_train = tokenizer.texts_to_sequences(X_train) # 文本转为序列\n",
        "type(X_train)"
      ]
    },
    {
      "cell_type": "code",
      "execution_count": null,
      "metadata": {
        "colab": {
          "base_uri": "https://localhost:8080/"
        },
        "id": "Mz1u1SQCvppS",
        "outputId": "e0c27ea9-665a-4879-d1bb-8220346a34cd"
      },
      "outputs": [
        {
          "data": {
            "text/plain": [
              "numpy.ndarray"
            ]
          },
          "execution_count": 176,
          "metadata": {},
          "output_type": "execute_result"
        }
      ],
      "source": [
        "X_train = pad_sequences(X_train, maxlen = 32, truncating = 'post', padding= 'post') # padding补齐到32个token\n",
        "type(X_train)"
      ]
    },
    {
      "cell_type": "code",
      "execution_count": null,
      "metadata": {
        "colab": {
          "base_uri": "https://localhost:8080/"
        },
        "id": "J8igOAgut1Nd",
        "outputId": "49c5e8a3-d6f1-41f6-ef1a-4f1fdcae30cd"
      },
      "outputs": [
        {
          "data": {
            "text/plain": [
              "(array([482,  22,  32,   9,  10, 436,   0,   0,   0,   0,   0,   0,   0,\n",
              "          0,   0,   0,   0,   0,   0,   0,   0,   0,   0,   0,   0,   0,\n",
              "          0,   0,   0,   0,   0,   0], dtype=int32), 32)"
            ]
          },
          "execution_count": 11,
          "metadata": {},
          "output_type": "execute_result"
        }
      ],
      "source": [
        "X_train[0], len(X_train[0]) # 示例"
      ]
    },
    {
      "cell_type": "code",
      "execution_count": null,
      "metadata": {
        "id": "YYGi4k5nvHws"
      },
      "outputs": [],
      "source": [
        "X_test = tokenizer.texts_to_sequences(X_test) # 同上，测试集\n",
        "X_test = pad_sequences(X_test, maxlen = 32, truncating ='post', padding= 'post')"
      ]
    },
    {
      "cell_type": "code",
      "execution_count": null,
      "metadata": {
        "colab": {
          "base_uri": "https://localhost:8080/"
        },
        "id": "xzxkjAlVvNmm",
        "outputId": "6126d434-6523-4d7d-ac2e-c044759bab7d"
      },
      "outputs": [
        {
          "data": {
            "text/plain": [
              "(array([  5,   4, 206, 207, 208, 141, 183, 209,  36, 192,  66, 210,   3,\n",
              "         25, 170,  49,  66, 211,  38, 212, 158, 213, 214,   3, 215,   3,\n",
              "        216, 151,   2, 217, 218, 159], dtype=int32), 32)"
            ]
          },
          "execution_count": 13,
          "metadata": {},
          "output_type": "execute_result"
        }
      ],
      "source": [
        "X_test[10], len(X_test[0]) # 示例"
      ]
    },
    {
      "cell_type": "code",
      "execution_count": null,
      "metadata": {
        "colab": {
          "base_uri": "https://localhost:8080/"
        },
        "id": "_YF1pLjSv0rL",
        "outputId": "a8ccc91d-d4f1-45fb-e6f0-fe60dc034bf5"
      },
      "outputs": [
        {
          "name": "stdout",
          "output_type": "stream",
          "text": [
            "(6377, 32) (6377,)\n",
            "(709, 32) (709,)\n"
          ]
        }
      ],
      "source": [
        "print(X_train.shape, y_train.shape)\n",
        "print(X_test.shape, y_test.shape) # 向量形状 ，后面没写就是1"
      ]
    },
    {
      "cell_type": "code",
      "execution_count": null,
      "metadata": {
        "id": "krdGqLukv8o_"
      },
      "outputs": [],
      "source": [
        "le = LabelEncoder() # 对分类型特征值进行编码，即对不连续的数值或文本进行编码\n",
        "y_train = le.fit_transform(y_train)\n",
        "y_test = le.transform(y_test)"
      ]
    },
    {
      "cell_type": "markdown",
      "metadata": {
        "id": "VlDDLuxEwiw_"
      },
      "source": [
        "Model"
      ]
    },
    {
      "cell_type": "code",
      "execution_count": null,
      "metadata": {
        "id": "l0dntBV7wYn9"
      },
      "outputs": [],
      "source": [
        "model = Sequential()\n",
        "\n",
        "model.add(Embedding(input_dim = num_words, output_dim = 100,\n",
        "          input_length = 32, trainable = True)) # 词向量映射，6377到100维\n",
        "model.add(LSTM(100, dropout = 0.1, return_sequences = True)) # LSTM 输入100维，扔掉0.1的数据，防止过拟合\n",
        "model.add(LSTM(100, dropout = 0.1)) # 同上\n",
        "model.add(Dense(1, activation = 'sigmoid')) # 输出1维，类别变量，sigmoid作为激活函数\n",
        "\n",
        "model.compile(loss = 'binary_crossentropy', optimizer = 'adam', metrics = ['accuracy']) # 交叉熵损失，adam优化器，获取accuracy"
      ]
    },
    {
      "cell_type": "code",
      "execution_count": null,
      "metadata": {
        "colab": {
          "base_uri": "https://localhost:8080/"
        },
        "id": "g0lURL3txOLf",
        "outputId": "131301df-005b-45cb-fe17-9a0bf88fb4df"
      },
      "outputs": [
        {
          "name": "stdout",
          "output_type": "stream",
          "text": [
            "Epoch 1/20\n",
            "100/100 [==============================] - 9s 17ms/step - loss: 0.2303 - accuracy: 0.8821 - val_loss: 0.0703 - val_accuracy: 0.9760\n",
            "Epoch 2/20\n",
            "100/100 [==============================] - 1s 9ms/step - loss: 0.0165 - accuracy: 0.9945 - val_loss: 0.0667 - val_accuracy: 0.9831\n",
            "Epoch 3/20\n",
            "100/100 [==============================] - 1s 9ms/step - loss: 0.0031 - accuracy: 0.9987 - val_loss: 0.0456 - val_accuracy: 0.9901\n",
            "Epoch 4/20\n",
            "100/100 [==============================] - 1s 9ms/step - loss: 0.0084 - accuracy: 0.9981 - val_loss: 0.1169 - val_accuracy: 0.9817\n",
            "Epoch 5/20\n",
            "100/100 [==============================] - 1s 9ms/step - loss: 2.0861e-04 - accuracy: 1.0000 - val_loss: 0.1318 - val_accuracy: 0.9817\n",
            "Epoch 6/20\n",
            "100/100 [==============================] - 1s 9ms/step - loss: 7.7823e-05 - accuracy: 1.0000 - val_loss: 0.1533 - val_accuracy: 0.9803\n",
            "Epoch 7/20\n",
            "100/100 [==============================] - 1s 9ms/step - loss: 0.0078 - accuracy: 0.9980 - val_loss: 0.1390 - val_accuracy: 0.9788\n",
            "Epoch 8/20\n",
            "100/100 [==============================] - 1s 9ms/step - loss: 0.0048 - accuracy: 0.9992 - val_loss: 0.1292 - val_accuracy: 0.9803\n",
            "Epoch 9/20\n",
            "100/100 [==============================] - 1s 9ms/step - loss: 0.0012 - accuracy: 0.9997 - val_loss: 0.1559 - val_accuracy: 0.9803\n",
            "Epoch 10/20\n",
            "100/100 [==============================] - 1s 9ms/step - loss: 5.0470e-05 - accuracy: 1.0000 - val_loss: 0.1667 - val_accuracy: 0.9803\n",
            "Epoch 11/20\n",
            "100/100 [==============================] - 1s 9ms/step - loss: 3.3620e-05 - accuracy: 1.0000 - val_loss: 0.1721 - val_accuracy: 0.9803\n",
            "Epoch 12/20\n",
            "100/100 [==============================] - 1s 9ms/step - loss: 2.5740e-05 - accuracy: 1.0000 - val_loss: 0.1761 - val_accuracy: 0.9803\n",
            "Epoch 13/20\n",
            "100/100 [==============================] - 1s 9ms/step - loss: 2.0645e-05 - accuracy: 1.0000 - val_loss: 0.1796 - val_accuracy: 0.9803\n",
            "Epoch 14/20\n",
            "100/100 [==============================] - 1s 9ms/step - loss: 1.7826e-05 - accuracy: 1.0000 - val_loss: 0.1828 - val_accuracy: 0.9803\n",
            "Epoch 15/20\n",
            "100/100 [==============================] - 1s 9ms/step - loss: 1.4979e-05 - accuracy: 1.0000 - val_loss: 0.1856 - val_accuracy: 0.9803\n",
            "Epoch 16/20\n",
            "100/100 [==============================] - 1s 10ms/step - loss: 1.3395e-05 - accuracy: 1.0000 - val_loss: 0.1884 - val_accuracy: 0.9803\n",
            "Epoch 17/20\n",
            "100/100 [==============================] - 1s 9ms/step - loss: 1.1627e-05 - accuracy: 1.0000 - val_loss: 0.1908 - val_accuracy: 0.9803\n",
            "Epoch 18/20\n",
            "100/100 [==============================] - 1s 9ms/step - loss: 1.0273e-05 - accuracy: 1.0000 - val_loss: 0.1931 - val_accuracy: 0.9803\n",
            "Epoch 19/20\n",
            "100/100 [==============================] - 1s 9ms/step - loss: 9.3341e-06 - accuracy: 1.0000 - val_loss: 0.1953 - val_accuracy: 0.9803\n",
            "Epoch 20/20\n",
            "100/100 [==============================] - 1s 9ms/step - loss: 8.3187e-06 - accuracy: 1.0000 - val_loss: 0.1974 - val_accuracy: 0.9803\n"
          ]
        }
      ],
      "source": [
        "history = model.fit(X_train, y_train, epochs = 20, shuffle = True, batch_size = 64, validation_data = (X_test, y_test)) # 训练"
      ]
    },
    {
      "cell_type": "code",
      "execution_count": null,
      "metadata": {
        "colab": {
          "base_uri": "https://localhost:8080/",
          "height": 322
        },
        "id": "2cTk3TOGyE2B",
        "outputId": "33d3f8d5-2534-49d9-8e00-6b8252f1f590"
      },
      "outputs": [
        {
          "data": {
            "image/png": "[encoded data removed]",
            "text/plain": [
              "<Figure size 1152x360 with 1 Axes>"
            ]
          },
          "metadata": {
            "needs_background": "light"
          },
          "output_type": "display_data"
        }
      ],
      "source": [
        "plt.figure(figsize=(16,5)) # 图\n",
        "epochs = range(1, len(history.history['accuracy'])+1)\n",
        "plt.plot(epochs, history.history['accuracy'], 'b', label = 'Training Accuracy', color ='red')\n",
        "plt.plot(epochs, history.history['val_accuracy'], 'b' ,label ='Validation Accuracy')\n",
        "plt.legend()\n",
        "plt.show()"
      ]
    },
    {
      "cell_type": "code",
      "execution_count": null,
      "metadata": {
        "colab": {
          "base_uri": "https://localhost:8080/"
        },
        "id": "IFYo_Rvr6esq",
        "outputId": "db577e93-345e-42bc-f6f9-5958b9d10826"
      },
      "outputs": [
        {
          "name": "stdout",
          "output_type": "stream",
          "text": [
            "A film without love and beauty, but shining\n",
            "Probability of Positive:[0.99999464]\n"
          ]
        }
      ],
      "source": [
        "validation_sentence = ['A film without love and beauty, but shining'] # 测试句子\n",
        "validation_sentence_tokened = tokenizer.texts_to_sequences(validation_sentence) # 文本转化为序列\n",
        "validation_sentence_padded = pad_sequences(validation_sentence_tokened, maxlen = 32, truncating = 'post', padding= 'post') # padding补齐\n",
        "\n",
        "print(validation_sentence[0])\n",
        "print(\"Probability of Positive:{}\".format(model.predict(validation_sentence_padded)[0])) # 预测积极概率"
      ]
    },
    {
      "cell_type": "code",
      "execution_count": null,
      "metadata": {
        "id": "bDr1UlNR-d_n"
      },
      "outputs": [],
      "source": [
        "from sklearn.feature_extraction.text import TfidfVectorizer\n",
        "from sklearn.svm import LinearSVC\n",
        "from sklearn.metrics import classification_report"
      ]
    },
    {
      "cell_type": "code",
      "execution_count": null,
      "metadata": {
        "colab": {
          "base_uri": "https://localhost:8080/"
        },
        "id": "uw9Ujk0PDpyt",
        "outputId": "ac77b726-8a91-4947-f92d-53f054f097bb"
      },
      "outputs": [
        {
          "name": "stdout",
          "output_type": "stream",
          "text": [
            "Collecting git+https://github.com/laxmimerit/preprocess_kgptalkie.git\n",
            "  Cloning https://github.com/laxmimerit/preprocess_kgptalkie.git to /tmp/pip-req-build-dmwzh2bt\n",
            "  Running command git clone -q https://github.com/laxmimerit/preprocess_kgptalkie.git /tmp/pip-req-build-dmwzh2bt\n",
            "Building wheels for collected packages: preprocess-kgptalkie\n",
            "  Building wheel for preprocess-kgptalkie (setup.py) ... \u001b[?25l\u001b[?25hdone\n",
            "  Created wheel for preprocess-kgptalkie: filename=preprocess_kgptalkie-0.1.3-py3-none-any.whl size=11756 sha256=1b89e919e72ac5389a4e558507482d6c74e93ea80a6cbb5a8b61952a7c02d0e0\n",
            "  Stored in directory: /tmp/pip-ephem-wheel-cache-cclowuyo/wheels/0d/b3/29/bfe3deffda68980088d17b81331be6667e837ffb4a071bae82\n",
            "Successfully built preprocess-kgptalkie\n",
            "Installing collected packages: preprocess-kgptalkie\n",
            "Successfully installed preprocess-kgptalkie-0.1.3\n"
          ]
        }
      ],
      "source": [
        "!pip install git+https://github.com/laxmimerit/preprocess_kgptalkie.git"
      ]
    },
    {
      "cell_type": "code",
      "execution_count": null,
      "metadata": {
        "id": "k17BM-51EArj"
      },
      "outputs": [],
      "source": [
        "import preprocess_kgptalkie as ps\n",
        "import re \n",
        "\n",
        "def get_clean(x):\n",
        "    x = str(x).lower().replace('\\\\', '').replace('_', ' ')\n",
        "    x = ps.cont_exp(x)\n",
        "    x = ps.remove_emails(x)\n",
        "    x = ps.remove_urls(x)\n",
        "    x = ps.remove_html_tags(x)\n",
        "    x = ps.remove_rt(x)\n",
        "    x = ps.remove_accented_chars(x)\n",
        "    x = ps.remove_special_chars(x)\n",
        "    x = re.sub(\"(.)\\\\1{2,}\", \"\\\\1\", x)\n",
        "    return x"
      ]
    },
    {
      "cell_type": "code",
      "execution_count": null,
      "metadata": {
        "id": "ZcrXtBDrEH6G"
      },
      "outputs": [],
      "source": [
        "X_train = imdb_train.sentence\n",
        "y_train = imdb_train.label\n",
        "X_test = imdb_test.sentence\n",
        "y_test = imdb_test.label"
      ]
    },
    {
      "cell_type": "code",
      "execution_count": null,
      "metadata": {
        "id": "Zp2miNtTELvi"
      },
      "outputs": [],
      "source": [
        "X_train = X_train.apply(lambda x: get_clean(x))\n",
        "X_test = X_test.apply(lambda x: get_clean(x))"
      ]
    },
    {
      "cell_type": "code",
      "execution_count": null,
      "metadata": {
        "id": "v_442Y3s-_FC"
      },
      "outputs": [],
      "source": [
        "tfidf = TfidfVectorizer(max_features = 675)"
      ]
    },
    {
      "cell_type": "code",
      "execution_count": null,
      "metadata": {
        "id": "TxY2wM8i_Sb_"
      },
      "outputs": [],
      "source": [
        "X_train = tfidf.fit_transform(X_train) \n",
        "X_test = tfidf.fit_transform(X_test) "
      ]
    },
    {
      "cell_type": "code",
      "execution_count": null,
      "metadata": {
        "colab": {
          "base_uri": "https://localhost:8080/"
        },
        "id": "LcvbGK1__wnY",
        "outputId": "36e7056c-f30f-4276-8384-4e82a8d2d60f"
      },
      "outputs": [
        {
          "data": {
            "text/plain": [
              "<6377x675 sparse matrix of type '<class 'numpy.float64'>'\n",
              "\twith 58066 stored elements in Compressed Sparse Row format>"
            ]
          },
          "execution_count": 27,
          "metadata": {},
          "output_type": "execute_result"
        }
      ],
      "source": [
        "X_train"
      ]
    },
    {
      "cell_type": "code",
      "execution_count": null,
      "metadata": {
        "colab": {
          "base_uri": "https://localhost:8080/"
        },
        "id": "UkrBTaoa_6wx",
        "outputId": "a4637179-5ad6-4b1a-a1f2-f0835b254850"
      },
      "outputs": [
        {
          "data": {
            "text/plain": [
              "LinearSVC()"
            ]
          },
          "execution_count": 28,
          "metadata": {},
          "output_type": "execute_result"
        }
      ],
      "source": [
        "clf = LinearSVC()\n",
        "clf.fit(X_train, y_train)"
      ]
    },
    {
      "cell_type": "code",
      "execution_count": null,
      "metadata": {
        "colab": {
          "base_uri": "https://localhost:8080/"
        },
        "id": "hbQOh0X4AW7V",
        "outputId": "e8284354-bf29-4955-ba99-e0af69d1a27f"
      },
      "outputs": [
        {
          "name": "stdout",
          "output_type": "stream",
          "text": [
            "              precision    recall  f1-score   support\n",
            "\n",
            "           0       0.52      0.59      0.56       339\n",
            "           1       0.58      0.51      0.54       370\n",
            "\n",
            "    accuracy                           0.55       709\n",
            "   macro avg       0.55      0.55      0.55       709\n",
            "weighted avg       0.55      0.55      0.55       709\n",
            "\n"
          ]
        }
      ],
      "source": [
        "y_pred = clf.predict(X_test)\n",
        "print(classification_report(y_test, y_pred))"
      ]
    },
    {
      "cell_type": "code",
      "execution_count": null,
      "metadata": {
        "id": "7dUuwiWnGW5R"
      },
      "outputs": [],
      "source": [
        "x = 'A film without love and beauty, but shining'\n",
        "\n",
        "x = get_clean(x)\n",
        "vec = tfidf.transform([x])"
      ]
    },
    {
      "cell_type": "code",
      "execution_count": null,
      "metadata": {
        "colab": {
          "base_uri": "https://localhost:8080/"
        },
        "id": "Mdy3V13rGo5h",
        "outputId": "e08e2e37-2eaa-47ca-9929-683d879e6f06"
      },
      "outputs": [
        {
          "data": {
            "text/plain": [
              "array([0])"
            ]
          },
          "execution_count": 31,
          "metadata": {},
          "output_type": "execute_result"
        }
      ],
      "source": [
        "clf.predict(vec)"
      ]
    },
    {
      "cell_type": "code",
      "execution_count": null,
      "metadata": {
        "id": "IpapQFjxiFLO"
      },
      "outputs": [],
      "source": [
        "douban = pd.read_csv('/content/drive/My Drive/chinese.csv')"
      ]
    },
    {
      "cell_type": "code",
      "execution_count": null,
      "metadata": {
        "id": "E8cqRbdFmaQl"
      },
      "outputs": [],
      "source": [
        "douban['label'] = douban['label'].str.replace(r'[^0-9]', '')"
      ]
    },
    {
      "cell_type": "code",
      "execution_count": null,
      "metadata": {
        "colab": {
          "base_uri": "https://localhost:8080/"
        },
        "id": "HkSj2Fl8kBkd",
        "outputId": "2361d7dd-247b-4d66-9877-9cfc0337b569"
      },
      "outputs": [
        {
          "data": {
            "text/plain": [
              "1          26255\n",
              "0          25497\n",
              "              27\n",
              "9              1\n",
              "1996           1\n",
              "0117500        1\n",
              "Name: label, dtype: int64"
            ]
          },
          "execution_count": 354,
          "metadata": {},
          "output_type": "execute_result"
        }
      ],
      "source": [
        "douban.label.value_counts()"
      ]
    },
    {
      "cell_type": "code",
      "execution_count": null,
      "metadata": {
        "colab": {
          "base_uri": "https://localhost:8080/",
          "height": 423
        },
        "id": "xYL9xgougOCH",
        "outputId": "7f0943d3-7365-4ece-d15f-bff2bc7159dc"
      },
      "outputs": [
        {
          "data": {
            "text/html": [
              "\n",
              "  <div id=\"df-c4aa4dd9-00d8-4a72-86f3-e6a974f6f51c\">\n",
              "    <div class=\"colab-df-container\">\n",
              "      <div>\n",
              "<style scoped>\n",
              "    .dataframe tbody tr th:only-of-type {\n",
              "        vertical-align: middle;\n",
              "    }\n",
              "\n",
              "    .dataframe tbody tr th {\n",
              "        vertical-align: top;\n",
              "    }\n",
              "\n",
              "    .dataframe thead th {\n",
              "        text-align: right;\n",
              "    }\n",
              "</style>\n",
              "<table border=\"1\" class=\"dataframe\">\n",
              "  <thead>\n",
              "    <tr style=\"text-align: right;\">\n",
              "      <th></th>\n",
              "      <th>label</th>\n",
              "      <th>sentence</th>\n",
              "    </tr>\n",
              "  </thead>\n",
              "  <tbody>\n",
              "    <tr>\n",
              "      <th>0</th>\n",
              "      <td>1</td>\n",
              "      <td>当年的奥斯卡颁奖礼上，被如日中天的《阿甘正传》掩盖了它的光彩，而随着时间的推移，这部电影在越...</td>\n",
              "    </tr>\n",
              "    <tr>\n",
              "      <th>1</th>\n",
              "      <td>1</td>\n",
              "      <td>不需要女主角的好电影</td>\n",
              "    </tr>\n",
              "    <tr>\n",
              "      <th>2</th>\n",
              "      <td>1</td>\n",
              "      <td>恐惧让你沦为囚犯，希望让你重获自由。——《肖申克的救赎》</td>\n",
              "    </tr>\n",
              "    <tr>\n",
              "      <th>3</th>\n",
              "      <td>1</td>\n",
              "      <td>“这是一部男人必看的电影。”人人都这么说。但单纯从性别区分，就会让这电影变狭隘。《肖申克的救...</td>\n",
              "    </tr>\n",
              "    <tr>\n",
              "      <th>4</th>\n",
              "      <td>1</td>\n",
              "      <td>策划了19年的私奔……</td>\n",
              "    </tr>\n",
              "    <tr>\n",
              "      <th>...</th>\n",
              "      <td>...</td>\n",
              "      <td>...</td>\n",
              "    </tr>\n",
              "    <tr>\n",
              "      <th>51786</th>\n",
              "      <td>1</td>\n",
              "      <td>好啊，我在想如果最后那颗误投的炸弹将他们炸死，这部电影又会是什么样子？</td>\n",
              "    </tr>\n",
              "    <tr>\n",
              "      <th>51787</th>\n",
              "      <td>1</td>\n",
              "      <td>重温经典。跌宕起伏的情节永远有再看一遍的冲动，美国政府的抉择，孤胆英雄的呐喊，多向冲突共同架...</td>\n",
              "    </tr>\n",
              "    <tr>\n",
              "      <th>51788</th>\n",
              "      <td>1</td>\n",
              "      <td>因为这部影片，开始喜欢Cage到现在。</td>\n",
              "    </tr>\n",
              "    <tr>\n",
              "      <th>51789</th>\n",
              "      <td>1</td>\n",
              "      <td>忘掉剧情吧~四颗星向伟大的汉斯季末，肖恩康纳利致敬！伟大的原声！其实凯奇和哈里斯也不错~</td>\n",
              "    </tr>\n",
              "    <tr>\n",
              "      <th>51790</th>\n",
              "      <td>1</td>\n",
              "      <td>经典中的经典好片呀！PS：算算凯奇叔你也都连续拍了十几年烂片了，也算另一种牛逼了！</td>\n",
              "    </tr>\n",
              "  </tbody>\n",
              "</table>\n",
              "<p>51791 rows × 2 columns</p>\n",
              "</div>\n",
              "      <button class=\"colab-df-convert\" onclick=\"convertToInteractive('df-c4aa4dd9-00d8-4a72-86f3-e6a974f6f51c')\"\n",
              "              title=\"Convert this dataframe to an interactive table.\"\n",
              "              style=\"display:none;\">\n",
              "        \n",
              "  <svg xmlns=\"http://www.w3.org/2000/svg\" height=\"24px\"viewBox=\"0 0 24 24\"\n",
              "       width=\"24px\">\n",
              "    <path d=\"M0 0h24v24H0V0z\" fill=\"none\"/>\n",
              "    <path d=\"M18.56 5.44l.94 2.06.94-2.06 2.06-.94-2.06-.94-.94-2.06-.94 2.06-2.06.94zm-11 1L8.5 8.5l.94-2.06 2.06-.94-2.06-.94L8.5 2.5l-.94 2.06-2.06.94zm10 10l.94 2.06.94-2.06 2.06-.94-2.06-.94-.94-2.06-.94 2.06-2.06.94z\"/><path d=\"M17.41 7.96l-1.37-1.37c-.4-.4-.92-.59-1.43-.59-.52 0-1.04.2-1.43.59L10.3 9.45l-7.72 7.72c-.78.78-.78 2.05 0 2.83L4 21.41c.39.39.9.59 1.41.59.51 0 1.02-.2 1.41-.59l7.78-7.78 2.81-2.81c.8-.78.8-2.07 0-2.86zM5.41 20L4 18.59l7.72-7.72 1.47 1.35L5.41 20z\"/>\n",
              "  </svg>\n",
              "      </button>\n",
              "      \n",
              "  <style>\n",
              "    .colab-df-container {\n",
              "      display:flex;\n",
              "      flex-wrap:wrap;\n",
              "      gap: 12px;\n",
              "    }\n",
              "\n",
              "    .colab-df-convert {\n",
              "      background-color: #E8F0FE;\n",
              "      border: none;\n",
              "      border-radius: 50%;\n",
              "      cursor: pointer;\n",
              "      display: none;\n",
              "      fill: #1967D2;\n",
              "      height: 32px;\n",
              "      padding: 0 0 0 0;\n",
              "      width: 32px;\n",
              "    }\n",
              "\n",
              "    .colab-df-convert:hover {\n",
              "      background-color: #E2EBFA;\n",
              "      box-shadow: 0px 1px 2px rgba(60, 64, 67, 0.3), 0px 1px 3px 1px rgba(60, 64, 67, 0.15);\n",
              "      fill: #174EA6;\n",
              "    }\n",
              "\n",
              "    [theme=dark] .colab-df-convert {\n",
              "      background-color: #3B4455;\n",
              "      fill: #D2E3FC;\n",
              "    }\n",
              "\n",
              "    [theme=dark] .colab-df-convert:hover {\n",
              "      background-color: #434B5C;\n",
              "      box-shadow: 0px 1px 3px 1px rgba(0, 0, 0, 0.15);\n",
              "      filter: drop-shadow(0px 1px 2px rgba(0, 0, 0, 0.3));\n",
              "      fill: #FFFFFF;\n",
              "    }\n",
              "  </style>\n",
              "\n",
              "      <script>\n",
              "        const buttonEl =\n",
              "          document.querySelector('#df-c4aa4dd9-00d8-4a72-86f3-e6a974f6f51c button.colab-df-convert');\n",
              "        buttonEl.style.display =\n",
              "          google.colab.kernel.accessAllowed ? 'block' : 'none';\n",
              "\n",
              "        async function convertToInteractive(key) {\n",
              "          const element = document.querySelector('#df-c4aa4dd9-00d8-4a72-86f3-e6a974f6f51c');\n",
              "          const dataTable =\n",
              "            await google.colab.kernel.invokeFunction('convertToInteractive',\n",
              "                                                     [key], {});\n",
              "          if (!dataTable) return;\n",
              "\n",
              "          const docLinkHtml = 'Like what you see? Visit the ' +\n",
              "            '<a target=\"_blank\" href=https://colab.research.google.com/notebooks/data_table.ipynb>data table notebook</a>'\n",
              "            + ' to learn more about interactive tables.';\n",
              "          element.innerHTML = '';\n",
              "          dataTable['output_type'] = 'display_data';\n",
              "          await google.colab.output.renderOutput(dataTable, element);\n",
              "          const docLink = document.createElement('div');\n",
              "          docLink.innerHTML = docLinkHtml;\n",
              "          element.appendChild(docLink);\n",
              "        }\n",
              "      </script>\n",
              "    </div>\n",
              "  </div>\n",
              "  "
            ],
            "text/plain": [
              "      label                                           sentence\n",
              "0         1  当年的奥斯卡颁奖礼上，被如日中天的《阿甘正传》掩盖了它的光彩，而随着时间的推移，这部电影在越...\n",
              "1         1                                         不需要女主角的好电影\n",
              "2         1                       恐惧让你沦为囚犯，希望让你重获自由。——《肖申克的救赎》\n",
              "3         1  “这是一部男人必看的电影。”人人都这么说。但单纯从性别区分，就会让这电影变狭隘。《肖申克的救...\n",
              "4         1                                        策划了19年的私奔……\n",
              "...     ...                                                ...\n",
              "51786     1                好啊，我在想如果最后那颗误投的炸弹将他们炸死，这部电影又会是什么样子？\n",
              "51787     1  重温经典。跌宕起伏的情节永远有再看一遍的冲动，美国政府的抉择，孤胆英雄的呐喊，多向冲突共同架...\n",
              "51788     1                                因为这部影片，开始喜欢Cage到现在。\n",
              "51789     1       忘掉剧情吧~四颗星向伟大的汉斯季末，肖恩康纳利致敬！伟大的原声！其实凯奇和哈里斯也不错~\n",
              "51790     1          经典中的经典好片呀！PS：算算凯奇叔你也都连续拍了十几年烂片了，也算另一种牛逼了！\n",
              "\n",
              "[51791 rows x 2 columns]"
            ]
          },
          "execution_count": 355,
          "metadata": {},
          "output_type": "execute_result"
        }
      ],
      "source": [
        "douban"
      ]
    },
    {
      "cell_type": "code",
      "execution_count": null,
      "metadata": {
        "colab": {
          "base_uri": "https://localhost:8080/",
          "height": 423
        },
        "id": "eEtS0ED2muCO",
        "outputId": "eada485e-0396-41dc-943a-281e6d655898"
      },
      "outputs": [
        {
          "data": {
            "text/html": [
              "\n",
              "  <div id=\"df-848c7b0a-5e96-41e4-b5d6-b8fd904df9cf\">\n",
              "    <div class=\"colab-df-container\">\n",
              "      <div>\n",
              "<style scoped>\n",
              "    .dataframe tbody tr th:only-of-type {\n",
              "        vertical-align: middle;\n",
              "    }\n",
              "\n",
              "    .dataframe tbody tr th {\n",
              "        vertical-align: top;\n",
              "    }\n",
              "\n",
              "    .dataframe thead th {\n",
              "        text-align: right;\n",
              "    }\n",
              "</style>\n",
              "<table border=\"1\" class=\"dataframe\">\n",
              "  <thead>\n",
              "    <tr style=\"text-align: right;\">\n",
              "      <th></th>\n",
              "      <th>label</th>\n",
              "      <th>sentence</th>\n",
              "    </tr>\n",
              "  </thead>\n",
              "  <tbody>\n",
              "    <tr>\n",
              "      <th>0</th>\n",
              "      <td>1</td>\n",
              "      <td>当年的奥斯卡颁奖礼上，被如日中天的《阿甘正传》掩盖了它的光彩，而随着时间的推移，这部电影在越...</td>\n",
              "    </tr>\n",
              "    <tr>\n",
              "      <th>1</th>\n",
              "      <td>1</td>\n",
              "      <td>不需要女主角的好电影</td>\n",
              "    </tr>\n",
              "    <tr>\n",
              "      <th>2</th>\n",
              "      <td>1</td>\n",
              "      <td>恐惧让你沦为囚犯，希望让你重获自由。——《肖申克的救赎》</td>\n",
              "    </tr>\n",
              "    <tr>\n",
              "      <th>3</th>\n",
              "      <td>1</td>\n",
              "      <td>“这是一部男人必看的电影。”人人都这么说。但单纯从性别区分，就会让这电影变狭隘。《肖申克的救...</td>\n",
              "    </tr>\n",
              "    <tr>\n",
              "      <th>4</th>\n",
              "      <td>1</td>\n",
              "      <td>策划了19年的私奔……</td>\n",
              "    </tr>\n",
              "    <tr>\n",
              "      <th>...</th>\n",
              "      <td>...</td>\n",
              "      <td>...</td>\n",
              "    </tr>\n",
              "    <tr>\n",
              "      <th>51786</th>\n",
              "      <td>1</td>\n",
              "      <td>好啊，我在想如果最后那颗误投的炸弹将他们炸死，这部电影又会是什么样子？</td>\n",
              "    </tr>\n",
              "    <tr>\n",
              "      <th>51787</th>\n",
              "      <td>1</td>\n",
              "      <td>重温经典。跌宕起伏的情节永远有再看一遍的冲动，美国政府的抉择，孤胆英雄的呐喊，多向冲突共同架...</td>\n",
              "    </tr>\n",
              "    <tr>\n",
              "      <th>51788</th>\n",
              "      <td>1</td>\n",
              "      <td>因为这部影片，开始喜欢Cage到现在。</td>\n",
              "    </tr>\n",
              "    <tr>\n",
              "      <th>51789</th>\n",
              "      <td>1</td>\n",
              "      <td>忘掉剧情吧~四颗星向伟大的汉斯季末，肖恩康纳利致敬！伟大的原声！其实凯奇和哈里斯也不错~</td>\n",
              "    </tr>\n",
              "    <tr>\n",
              "      <th>51790</th>\n",
              "      <td>1</td>\n",
              "      <td>经典中的经典好片呀！PS：算算凯奇叔你也都连续拍了十几年烂片了，也算另一种牛逼了！</td>\n",
              "    </tr>\n",
              "  </tbody>\n",
              "</table>\n",
              "<p>51761 rows × 2 columns</p>\n",
              "</div>\n",
              "      <button class=\"colab-df-convert\" onclick=\"convertToInteractive('df-848c7b0a-5e96-41e4-b5d6-b8fd904df9cf')\"\n",
              "              title=\"Convert this dataframe to an interactive table.\"\n",
              "              style=\"display:none;\">\n",
              "        \n",
              "  <svg xmlns=\"http://www.w3.org/2000/svg\" height=\"24px\"viewBox=\"0 0 24 24\"\n",
              "       width=\"24px\">\n",
              "    <path d=\"M0 0h24v24H0V0z\" fill=\"none\"/>\n",
              "    <path d=\"M18.56 5.44l.94 2.06.94-2.06 2.06-.94-2.06-.94-.94-2.06-.94 2.06-2.06.94zm-11 1L8.5 8.5l.94-2.06 2.06-.94-2.06-.94L8.5 2.5l-.94 2.06-2.06.94zm10 10l.94 2.06.94-2.06 2.06-.94-2.06-.94-.94-2.06-.94 2.06-2.06.94z\"/><path d=\"M17.41 7.96l-1.37-1.37c-.4-.4-.92-.59-1.43-.59-.52 0-1.04.2-1.43.59L10.3 9.45l-7.72 7.72c-.78.78-.78 2.05 0 2.83L4 21.41c.39.39.9.59 1.41.59.51 0 1.02-.2 1.41-.59l7.78-7.78 2.81-2.81c.8-.78.8-2.07 0-2.86zM5.41 20L4 18.59l7.72-7.72 1.47 1.35L5.41 20z\"/>\n",
              "  </svg>\n",
              "      </button>\n",
              "      \n",
              "  <style>\n",
              "    .colab-df-container {\n",
              "      display:flex;\n",
              "      flex-wrap:wrap;\n",
              "      gap: 12px;\n",
              "    }\n",
              "\n",
              "    .colab-df-convert {\n",
              "      background-color: #E8F0FE;\n",
              "      border: none;\n",
              "      border-radius: 50%;\n",
              "      cursor: pointer;\n",
              "      display: none;\n",
              "      fill: #1967D2;\n",
              "      height: 32px;\n",
              "      padding: 0 0 0 0;\n",
              "      width: 32px;\n",
              "    }\n",
              "\n",
              "    .colab-df-convert:hover {\n",
              "      background-color: #E2EBFA;\n",
              "      box-shadow: 0px 1px 2px rgba(60, 64, 67, 0.3), 0px 1px 3px 1px rgba(60, 64, 67, 0.15);\n",
              "      fill: #174EA6;\n",
              "    }\n",
              "\n",
              "    [theme=dark] .colab-df-convert {\n",
              "      background-color: #3B4455;\n",
              "      fill: #D2E3FC;\n",
              "    }\n",
              "\n",
              "    [theme=dark] .colab-df-convert:hover {\n",
              "      background-color: #434B5C;\n",
              "      box-shadow: 0px 1px 3px 1px rgba(0, 0, 0, 0.15);\n",
              "      filter: drop-shadow(0px 1px 2px rgba(0, 0, 0, 0.3));\n",
              "      fill: #FFFFFF;\n",
              "    }\n",
              "  </style>\n",
              "\n",
              "      <script>\n",
              "        const buttonEl =\n",
              "          document.querySelector('#df-848c7b0a-5e96-41e4-b5d6-b8fd904df9cf button.colab-df-convert');\n",
              "        buttonEl.style.display =\n",
              "          google.colab.kernel.accessAllowed ? 'block' : 'none';\n",
              "\n",
              "        async function convertToInteractive(key) {\n",
              "          const element = document.querySelector('#df-848c7b0a-5e96-41e4-b5d6-b8fd904df9cf');\n",
              "          const dataTable =\n",
              "            await google.colab.kernel.invokeFunction('convertToInteractive',\n",
              "                                                     [key], {});\n",
              "          if (!dataTable) return;\n",
              "\n",
              "          const docLinkHtml = 'Like what you see? Visit the ' +\n",
              "            '<a target=\"_blank\" href=https://colab.research.google.com/notebooks/data_table.ipynb>data table notebook</a>'\n",
              "            + ' to learn more about interactive tables.';\n",
              "          element.innerHTML = '';\n",
              "          dataTable['output_type'] = 'display_data';\n",
              "          await google.colab.output.renderOutput(dataTable, element);\n",
              "          const docLink = document.createElement('div');\n",
              "          docLink.innerHTML = docLinkHtml;\n",
              "          element.appendChild(docLink);\n",
              "        }\n",
              "      </script>\n",
              "    </div>\n",
              "  </div>\n",
              "  "
            ],
            "text/plain": [
              "      label                                           sentence\n",
              "0         1  当年的奥斯卡颁奖礼上，被如日中天的《阿甘正传》掩盖了它的光彩，而随着时间的推移，这部电影在越...\n",
              "1         1                                         不需要女主角的好电影\n",
              "2         1                       恐惧让你沦为囚犯，希望让你重获自由。——《肖申克的救赎》\n",
              "3         1  “这是一部男人必看的电影。”人人都这么说。但单纯从性别区分，就会让这电影变狭隘。《肖申克的救...\n",
              "4         1                                        策划了19年的私奔……\n",
              "...     ...                                                ...\n",
              "51786     1                好啊，我在想如果最后那颗误投的炸弹将他们炸死，这部电影又会是什么样子？\n",
              "51787     1  重温经典。跌宕起伏的情节永远有再看一遍的冲动，美国政府的抉择，孤胆英雄的呐喊，多向冲突共同架...\n",
              "51788     1                                因为这部影片，开始喜欢Cage到现在。\n",
              "51789     1       忘掉剧情吧~四颗星向伟大的汉斯季末，肖恩康纳利致敬！伟大的原声！其实凯奇和哈里斯也不错~\n",
              "51790     1          经典中的经典好片呀！PS：算算凯奇叔你也都连续拍了十几年烂片了，也算另一种牛逼了！\n",
              "\n",
              "[51761 rows x 2 columns]"
            ]
          },
          "execution_count": 356,
          "metadata": {},
          "output_type": "execute_result"
        }
      ],
      "source": [
        "douban = douban.drop(douban[(douban['label'] == '') | (douban['label'] == '9')| (douban['label'] == '1996')| (douban['label'] == '0117500')].index)\n",
        "douban"
      ]
    },
    {
      "cell_type": "code",
      "execution_count": null,
      "metadata": {
        "colab": {
          "base_uri": "https://localhost:8080/"
        },
        "id": "nIT52oGNoMhC",
        "outputId": "46026570-b76b-46a5-8577-9243f50cf426"
      },
      "outputs": [
        {
          "data": {
            "text/plain": [
              "1    26255\n",
              "0    25497\n",
              "Name: label, dtype: int64"
            ]
          },
          "execution_count": 357,
          "metadata": {},
          "output_type": "execute_result"
        }
      ],
      "source": [
        "douban.label.value_counts()"
      ]
    },
    {
      "cell_type": "code",
      "execution_count": null,
      "metadata": {
        "colab": {
          "base_uri": "https://localhost:8080/",
          "height": 423
        },
        "id": "9WUUp34SsQwF",
        "outputId": "f68184ca-3cde-4d38-a6dd-2b1d1c2a4df0"
      },
      "outputs": [
        {
          "data": {
            "text/html": [
              "\n",
              "  <div id=\"df-927036b4-721d-4fd0-a63b-927d22359856\">\n",
              "    <div class=\"colab-df-container\">\n",
              "      <div>\n",
              "<style scoped>\n",
              "    .dataframe tbody tr th:only-of-type {\n",
              "        vertical-align: middle;\n",
              "    }\n",
              "\n",
              "    .dataframe tbody tr th {\n",
              "        vertical-align: top;\n",
              "    }\n",
              "\n",
              "    .dataframe thead th {\n",
              "        text-align: right;\n",
              "    }\n",
              "</style>\n",
              "<table border=\"1\" class=\"dataframe\">\n",
              "  <thead>\n",
              "    <tr style=\"text-align: right;\">\n",
              "      <th></th>\n",
              "      <th>label</th>\n",
              "      <th>sentence</th>\n",
              "    </tr>\n",
              "  </thead>\n",
              "  <tbody>\n",
              "    <tr>\n",
              "      <th>0</th>\n",
              "      <td>1</td>\n",
              "      <td>当年 的 奥斯卡 颁奖礼 上 ， 被 如日中天 的 《 阿甘正传 》 掩盖 了 它 的 光彩...</td>\n",
              "    </tr>\n",
              "    <tr>\n",
              "      <th>1</th>\n",
              "      <td>1</td>\n",
              "      <td>不 需要 女主角 的 好 电影</td>\n",
              "    </tr>\n",
              "    <tr>\n",
              "      <th>2</th>\n",
              "      <td>1</td>\n",
              "      <td>恐惧 让 你 沦为 囚犯 ， 希望 让 你 重获 自由 。 — — 《 肖申克 的 救赎 》</td>\n",
              "    </tr>\n",
              "    <tr>\n",
              "      <th>3</th>\n",
              "      <td>1</td>\n",
              "      <td>“ 这是 一部 男人 必看 的 电影 。 ” 人人 都 这么 说 。 但 单纯 从 性别 区...</td>\n",
              "    </tr>\n",
              "    <tr>\n",
              "      <th>4</th>\n",
              "      <td>1</td>\n",
              "      <td>策划 了 19 年 的 私奔 … …</td>\n",
              "    </tr>\n",
              "    <tr>\n",
              "      <th>...</th>\n",
              "      <td>...</td>\n",
              "      <td>...</td>\n",
              "    </tr>\n",
              "    <tr>\n",
              "      <th>51786</th>\n",
              "      <td>1</td>\n",
              "      <td>好 啊 ， 我 在 想 如果 最后 那颗 误 投 的 炸弹 将 他们 炸死 ， 这部 电影 ...</td>\n",
              "    </tr>\n",
              "    <tr>\n",
              "      <th>51787</th>\n",
              "      <td>1</td>\n",
              "      <td>重温 经典 。 跌宕起伏 的 情节 永远 有 再 看一遍 的 冲动 ， 美国政府 的 抉择 ...</td>\n",
              "    </tr>\n",
              "    <tr>\n",
              "      <th>51788</th>\n",
              "      <td>1</td>\n",
              "      <td>因为 这部 影片 ， 开始 喜欢 Cage 到 现在 。</td>\n",
              "    </tr>\n",
              "    <tr>\n",
              "      <th>51789</th>\n",
              "      <td>1</td>\n",
              "      <td>忘掉 剧情 吧 ~ 四颗星 向 伟大 的 汉斯 季末 ， 肖恩 康纳利 致敬 ！ 伟大 的 ...</td>\n",
              "    </tr>\n",
              "    <tr>\n",
              "      <th>51790</th>\n",
              "      <td>1</td>\n",
              "      <td>经典 中 的 经典 好片 呀 ！ PS ： 算算 凯奇 叔 你 也 都 连续 拍 了 十几年...</td>\n",
              "    </tr>\n",
              "  </tbody>\n",
              "</table>\n",
              "<p>51761 rows × 2 columns</p>\n",
              "</div>\n",
              "      <button class=\"colab-df-convert\" onclick=\"convertToInteractive('df-927036b4-721d-4fd0-a63b-927d22359856')\"\n",
              "              title=\"Convert this dataframe to an interactive table.\"\n",
              "              style=\"display:none;\">\n",
              "        \n",
              "  <svg xmlns=\"http://www.w3.org/2000/svg\" height=\"24px\"viewBox=\"0 0 24 24\"\n",
              "       width=\"24px\">\n",
              "    <path d=\"M0 0h24v24H0V0z\" fill=\"none\"/>\n",
              "    <path d=\"M18.56 5.44l.94 2.06.94-2.06 2.06-.94-2.06-.94-.94-2.06-.94 2.06-2.06.94zm-11 1L8.5 8.5l.94-2.06 2.06-.94-2.06-.94L8.5 2.5l-.94 2.06-2.06.94zm10 10l.94 2.06.94-2.06 2.06-.94-2.06-.94-.94-2.06-.94 2.06-2.06.94z\"/><path d=\"M17.41 7.96l-1.37-1.37c-.4-.4-.92-.59-1.43-.59-.52 0-1.04.2-1.43.59L10.3 9.45l-7.72 7.72c-.78.78-.78 2.05 0 2.83L4 21.41c.39.39.9.59 1.41.59.51 0 1.02-.2 1.41-.59l7.78-7.78 2.81-2.81c.8-.78.8-2.07 0-2.86zM5.41 20L4 18.59l7.72-7.72 1.47 1.35L5.41 20z\"/>\n",
              "  </svg>\n",
              "      </button>\n",
              "      \n",
              "  <style>\n",
              "    .colab-df-container {\n",
              "      display:flex;\n",
              "      flex-wrap:wrap;\n",
              "      gap: 12px;\n",
              "    }\n",
              "\n",
              "    .colab-df-convert {\n",
              "      background-color: #E8F0FE;\n",
              "      border: none;\n",
              "      border-radius: 50%;\n",
              "      cursor: pointer;\n",
              "      display: none;\n",
              "      fill: #1967D2;\n",
              "      height: 32px;\n",
              "      padding: 0 0 0 0;\n",
              "      width: 32px;\n",
              "    }\n",
              "\n",
              "    .colab-df-convert:hover {\n",
              "      background-color: #E2EBFA;\n",
              "      box-shadow: 0px 1px 2px rgba(60, 64, 67, 0.3), 0px 1px 3px 1px rgba(60, 64, 67, 0.15);\n",
              "      fill: #174EA6;\n",
              "    }\n",
              "\n",
              "    [theme=dark] .colab-df-convert {\n",
              "      background-color: #3B4455;\n",
              "      fill: #D2E3FC;\n",
              "    }\n",
              "\n",
              "    [theme=dark] .colab-df-convert:hover {\n",
              "      background-color: #434B5C;\n",
              "      box-shadow: 0px 1px 3px 1px rgba(0, 0, 0, 0.15);\n",
              "      filter: drop-shadow(0px 1px 2px rgba(0, 0, 0, 0.3));\n",
              "      fill: #FFFFFF;\n",
              "    }\n",
              "  </style>\n",
              "\n",
              "      <script>\n",
              "        const buttonEl =\n",
              "          document.querySelector('#df-927036b4-721d-4fd0-a63b-927d22359856 button.colab-df-convert');\n",
              "        buttonEl.style.display =\n",
              "          google.colab.kernel.accessAllowed ? 'block' : 'none';\n",
              "\n",
              "        async function convertToInteractive(key) {\n",
              "          const element = document.querySelector('#df-927036b4-721d-4fd0-a63b-927d22359856');\n",
              "          const dataTable =\n",
              "            await google.colab.kernel.invokeFunction('convertToInteractive',\n",
              "                                                     [key], {});\n",
              "          if (!dataTable) return;\n",
              "\n",
              "          const docLinkHtml = 'Like what you see? Visit the ' +\n",
              "            '<a target=\"_blank\" href=https://colab.research.google.com/notebooks/data_table.ipynb>data table notebook</a>'\n",
              "            + ' to learn more about interactive tables.';\n",
              "          element.innerHTML = '';\n",
              "          dataTable['output_type'] = 'display_data';\n",
              "          await google.colab.output.renderOutput(dataTable, element);\n",
              "          const docLink = document.createElement('div');\n",
              "          docLink.innerHTML = docLinkHtml;\n",
              "          element.appendChild(docLink);\n",
              "        }\n",
              "      </script>\n",
              "    </div>\n",
              "  </div>\n",
              "  "
            ],
            "text/plain": [
              "      label                                           sentence\n",
              "0         1  当年 的 奥斯卡 颁奖礼 上 ， 被 如日中天 的 《 阿甘正传 》 掩盖 了 它 的 光彩...\n",
              "1         1                                    不 需要 女主角 的 好 电影\n",
              "2         1     恐惧 让 你 沦为 囚犯 ， 希望 让 你 重获 自由 。 — — 《 肖申克 的 救赎 》\n",
              "3         1  “ 这是 一部 男人 必看 的 电影 。 ” 人人 都 这么 说 。 但 单纯 从 性别 区...\n",
              "4         1                                 策划 了 19 年 的 私奔 … …\n",
              "...     ...                                                ...\n",
              "51786     1  好 啊 ， 我 在 想 如果 最后 那颗 误 投 的 炸弹 将 他们 炸死 ， 这部 电影 ...\n",
              "51787     1  重温 经典 。 跌宕起伏 的 情节 永远 有 再 看一遍 的 冲动 ， 美国政府 的 抉择 ...\n",
              "51788     1                       因为 这部 影片 ， 开始 喜欢 Cage 到 现在 。\n",
              "51789     1  忘掉 剧情 吧 ~ 四颗星 向 伟大 的 汉斯 季末 ， 肖恩 康纳利 致敬 ！ 伟大 的 ...\n",
              "51790     1  经典 中 的 经典 好片 呀 ！ PS ： 算算 凯奇 叔 你 也 都 连续 拍 了 十几年...\n",
              "\n",
              "[51761 rows x 2 columns]"
            ]
          },
          "execution_count": 358,
          "metadata": {},
          "output_type": "execute_result"
        }
      ],
      "source": [
        "import jieba\n",
        "douban['sentence'] = douban['sentence'].astype(str)\n",
        "douban['sentence'] = douban.sentence.apply(lambda x: \" \".join(jieba.cut(x)))\n",
        "douban"
      ]
    },
    {
      "cell_type": "code",
      "execution_count": null,
      "metadata": {
        "colab": {
          "base_uri": "https://localhost:8080/",
          "height": 423
        },
        "id": "wuO3qi-BHs53",
        "outputId": "a96b64eb-98bc-4532-c833-c73b30412d12"
      },
      "outputs": [
        {
          "data": {
            "text/html": [
              "\n",
              "  <div id=\"df-e066d852-9558-4f01-b44c-72c9f4028683\">\n",
              "    <div class=\"colab-df-container\">\n",
              "      <div>\n",
              "<style scoped>\n",
              "    .dataframe tbody tr th:only-of-type {\n",
              "        vertical-align: middle;\n",
              "    }\n",
              "\n",
              "    .dataframe tbody tr th {\n",
              "        vertical-align: top;\n",
              "    }\n",
              "\n",
              "    .dataframe thead th {\n",
              "        text-align: right;\n",
              "    }\n",
              "</style>\n",
              "<table border=\"1\" class=\"dataframe\">\n",
              "  <thead>\n",
              "    <tr style=\"text-align: right;\">\n",
              "      <th></th>\n",
              "      <th>label</th>\n",
              "      <th>sentence</th>\n",
              "    </tr>\n",
              "  </thead>\n",
              "  <tbody>\n",
              "    <tr>\n",
              "      <th>0</th>\n",
              "      <td>1</td>\n",
              "      <td>当年 的 奥斯卡 颁奖礼 上  被 如日中天 的  阿甘正传  掩盖 了 它 的 光彩  而...</td>\n",
              "    </tr>\n",
              "    <tr>\n",
              "      <th>1</th>\n",
              "      <td>1</td>\n",
              "      <td>不 需要 女主角 的 好 电影</td>\n",
              "    </tr>\n",
              "    <tr>\n",
              "      <th>2</th>\n",
              "      <td>1</td>\n",
              "      <td>恐惧 让 你 沦为 囚犯  希望 让 你 重获 自由     肖申克 的 救赎</td>\n",
              "    </tr>\n",
              "    <tr>\n",
              "      <th>3</th>\n",
              "      <td>1</td>\n",
              "      <td>这是 一部 男人 必看 的 电影   人人 都 这么 说  但 单纯 从 性别 区分  就 ...</td>\n",
              "    </tr>\n",
              "    <tr>\n",
              "      <th>4</th>\n",
              "      <td>1</td>\n",
              "      <td>策划 了 19 年 的 私奔</td>\n",
              "    </tr>\n",
              "    <tr>\n",
              "      <th>...</th>\n",
              "      <td>...</td>\n",
              "      <td>...</td>\n",
              "    </tr>\n",
              "    <tr>\n",
              "      <th>51786</th>\n",
              "      <td>1</td>\n",
              "      <td>好 啊 ， 我 在 想 如果 最后 那颗 误 投 的 炸弹 将 他们 炸死 ， 这部 电影 ...</td>\n",
              "    </tr>\n",
              "    <tr>\n",
              "      <th>51787</th>\n",
              "      <td>1</td>\n",
              "      <td>重温 经典 。 跌宕起伏 的 情节 永远 有 再 看一遍 的 冲动 ， 美国政府 的 抉择 ...</td>\n",
              "    </tr>\n",
              "    <tr>\n",
              "      <th>51788</th>\n",
              "      <td>1</td>\n",
              "      <td>因为 这部 影片 ， 开始 喜欢 Cage 到 现在 。</td>\n",
              "    </tr>\n",
              "    <tr>\n",
              "      <th>51789</th>\n",
              "      <td>1</td>\n",
              "      <td>忘掉 剧情 吧 ~ 四颗星 向 伟大 的 汉斯 季末 ， 肖恩 康纳利 致敬 ！ 伟大 的 ...</td>\n",
              "    </tr>\n",
              "    <tr>\n",
              "      <th>51790</th>\n",
              "      <td>1</td>\n",
              "      <td>经典 中 的 经典 好片 呀 ！ PS ： 算算 凯奇 叔 你 也 都 连续 拍 了 十几年...</td>\n",
              "    </tr>\n",
              "  </tbody>\n",
              "</table>\n",
              "<p>51761 rows × 2 columns</p>\n",
              "</div>\n",
              "      <button class=\"colab-df-convert\" onclick=\"convertToInteractive('df-e066d852-9558-4f01-b44c-72c9f4028683')\"\n",
              "              title=\"Convert this dataframe to an interactive table.\"\n",
              "              style=\"display:none;\">\n",
              "        \n",
              "  <svg xmlns=\"http://www.w3.org/2000/svg\" height=\"24px\"viewBox=\"0 0 24 24\"\n",
              "       width=\"24px\">\n",
              "    <path d=\"M0 0h24v24H0V0z\" fill=\"none\"/>\n",
              "    <path d=\"M18.56 5.44l.94 2.06.94-2.06 2.06-.94-2.06-.94-.94-2.06-.94 2.06-2.06.94zm-11 1L8.5 8.5l.94-2.06 2.06-.94-2.06-.94L8.5 2.5l-.94 2.06-2.06.94zm10 10l.94 2.06.94-2.06 2.06-.94-2.06-.94-.94-2.06-.94 2.06-2.06.94z\"/><path d=\"M17.41 7.96l-1.37-1.37c-.4-.4-.92-.59-1.43-.59-.52 0-1.04.2-1.43.59L10.3 9.45l-7.72 7.72c-.78.78-.78 2.05 0 2.83L4 21.41c.39.39.9.59 1.41.59.51 0 1.02-.2 1.41-.59l7.78-7.78 2.81-2.81c.8-.78.8-2.07 0-2.86zM5.41 20L4 18.59l7.72-7.72 1.47 1.35L5.41 20z\"/>\n",
              "  </svg>\n",
              "      </button>\n",
              "      \n",
              "  <style>\n",
              "    .colab-df-container {\n",
              "      display:flex;\n",
              "      flex-wrap:wrap;\n",
              "      gap: 12px;\n",
              "    }\n",
              "\n",
              "    .colab-df-convert {\n",
              "      background-color: #E8F0FE;\n",
              "      border: none;\n",
              "      border-radius: 50%;\n",
              "      cursor: pointer;\n",
              "      display: none;\n",
              "      fill: #1967D2;\n",
              "      height: 32px;\n",
              "      padding: 0 0 0 0;\n",
              "      width: 32px;\n",
              "    }\n",
              "\n",
              "    .colab-df-convert:hover {\n",
              "      background-color: #E2EBFA;\n",
              "      box-shadow: 0px 1px 2px rgba(60, 64, 67, 0.3), 0px 1px 3px 1px rgba(60, 64, 67, 0.15);\n",
              "      fill: #174EA6;\n",
              "    }\n",
              "\n",
              "    [theme=dark] .colab-df-convert {\n",
              "      background-color: #3B4455;\n",
              "      fill: #D2E3FC;\n",
              "    }\n",
              "\n",
              "    [theme=dark] .colab-df-convert:hover {\n",
              "      background-color: #434B5C;\n",
              "      box-shadow: 0px 1px 3px 1px rgba(0, 0, 0, 0.15);\n",
              "      filter: drop-shadow(0px 1px 2px rgba(0, 0, 0, 0.3));\n",
              "      fill: #FFFFFF;\n",
              "    }\n",
              "  </style>\n",
              "\n",
              "      <script>\n",
              "        const buttonEl =\n",
              "          document.querySelector('#df-e066d852-9558-4f01-b44c-72c9f4028683 button.colab-df-convert');\n",
              "        buttonEl.style.display =\n",
              "          google.colab.kernel.accessAllowed ? 'block' : 'none';\n",
              "\n",
              "        async function convertToInteractive(key) {\n",
              "          const element = document.querySelector('#df-e066d852-9558-4f01-b44c-72c9f4028683');\n",
              "          const dataTable =\n",
              "            await google.colab.kernel.invokeFunction('convertToInteractive',\n",
              "                                                     [key], {});\n",
              "          if (!dataTable) return;\n",
              "\n",
              "          const docLinkHtml = 'Like what you see? Visit the ' +\n",
              "            '<a target=\"_blank\" href=https://colab.research.google.com/notebooks/data_table.ipynb>data table notebook</a>'\n",
              "            + ' to learn more about interactive tables.';\n",
              "          element.innerHTML = '';\n",
              "          dataTable['output_type'] = 'display_data';\n",
              "          await google.colab.output.renderOutput(dataTable, element);\n",
              "          const docLink = document.createElement('div');\n",
              "          docLink.innerHTML = docLinkHtml;\n",
              "          element.appendChild(docLink);\n",
              "        }\n",
              "      </script>\n",
              "    </div>\n",
              "  </div>\n",
              "  "
            ],
            "text/plain": [
              "      label                                           sentence\n",
              "0         1  当年 的 奥斯卡 颁奖礼 上  被 如日中天 的  阿甘正传  掩盖 了 它 的 光彩  而...\n",
              "1         1                                    不 需要 女主角 的 好 电影\n",
              "2         1            恐惧 让 你 沦为 囚犯  希望 让 你 重获 自由     肖申克 的 救赎\n",
              "3         1  这是 一部 男人 必看 的 电影   人人 都 这么 说  但 单纯 从 性别 区分  就 ...\n",
              "4         1                                     策划 了 19 年 的 私奔\n",
              "...     ...                                                ...\n",
              "51786     1  好 啊 ， 我 在 想 如果 最后 那颗 误 投 的 炸弹 将 他们 炸死 ， 这部 电影 ...\n",
              "51787     1  重温 经典 。 跌宕起伏 的 情节 永远 有 再 看一遍 的 冲动 ， 美国政府 的 抉择 ...\n",
              "51788     1                       因为 这部 影片 ， 开始 喜欢 Cage 到 现在 。\n",
              "51789     1  忘掉 剧情 吧 ~ 四颗星 向 伟大 的 汉斯 季末 ， 肖恩 康纳利 致敬 ！ 伟大 的 ...\n",
              "51790     1  经典 中 的 经典 好片 呀 ！ PS ： 算算 凯奇 叔 你 也 都 连续 拍 了 十几年...\n",
              "\n",
              "[51761 rows x 2 columns]"
            ]
          },
          "execution_count": 359,
          "metadata": {},
          "output_type": "execute_result"
        }
      ],
      "source": [
        "import re\n",
        "pattern = re.compile(r'[\\u4e00-\\u9fa5]+')\n",
        "clean_data = []\n",
        "for i, data in enumerate(douban['sentence']) :\n",
        "  temp = re.compile(u'[\\u4E00-\\u9FA5|\\s\\w]').findall(data)\n",
        "  datatemp1 = ''.join(temp)\n",
        "  #datatemp2 = datatemp1.replace(' ', '')\n",
        "  datatemp2 = datatemp1.lstrip()\n",
        "  data = datatemp2.rstrip()\n",
        "  douban['sentence'][i] = data\n",
        "  \n",
        "douban\n",
        "\n",
        "#  data = re.findall(pattern, data)\n",
        "#  data = ''.join(data)\n",
        "\n",
        "#douban['comment'] = re.findall(pattern, douban['comment'])"
      ]
    },
    {
      "cell_type": "code",
      "execution_count": null,
      "metadata": {
        "colab": {
          "base_uri": "https://localhost:8080/",
          "height": 423
        },
        "id": "QHYStDs3OpCo",
        "outputId": "ce348711-0150-4031-a05e-10d0c6aa5310"
      },
      "outputs": [
        {
          "data": {
            "text/html": [
              "\n",
              "  <div id=\"df-6c067b3d-756e-4cdd-9f8f-091c4b66ee77\">\n",
              "    <div class=\"colab-df-container\">\n",
              "      <div>\n",
              "<style scoped>\n",
              "    .dataframe tbody tr th:only-of-type {\n",
              "        vertical-align: middle;\n",
              "    }\n",
              "\n",
              "    .dataframe tbody tr th {\n",
              "        vertical-align: top;\n",
              "    }\n",
              "\n",
              "    .dataframe thead th {\n",
              "        text-align: right;\n",
              "    }\n",
              "</style>\n",
              "<table border=\"1\" class=\"dataframe\">\n",
              "  <thead>\n",
              "    <tr style=\"text-align: right;\">\n",
              "      <th></th>\n",
              "      <th>label</th>\n",
              "      <th>sentence</th>\n",
              "    </tr>\n",
              "  </thead>\n",
              "  <tbody>\n",
              "    <tr>\n",
              "      <th>0</th>\n",
              "      <td>1</td>\n",
              "      <td>当年 的 奥斯卡 颁奖礼 上  被 如日中天 的  阿甘正传  掩盖 了 它 的 光彩  而...</td>\n",
              "    </tr>\n",
              "    <tr>\n",
              "      <th>1</th>\n",
              "      <td>1</td>\n",
              "      <td>不 需要 女主角 的 好 电影</td>\n",
              "    </tr>\n",
              "    <tr>\n",
              "      <th>2</th>\n",
              "      <td>1</td>\n",
              "      <td>恐惧 让 你 沦为 囚犯  希望 让 你 重获 自由     肖申克 的 救赎</td>\n",
              "    </tr>\n",
              "    <tr>\n",
              "      <th>3</th>\n",
              "      <td>1</td>\n",
              "      <td>这是 一部 男人 必看 的 电影   人人 都 这么 说  但 单纯 从 性别 区分  就 ...</td>\n",
              "    </tr>\n",
              "    <tr>\n",
              "      <th>4</th>\n",
              "      <td>1</td>\n",
              "      <td>策划 了 19 年 的 私奔</td>\n",
              "    </tr>\n",
              "    <tr>\n",
              "      <th>...</th>\n",
              "      <td>...</td>\n",
              "      <td>...</td>\n",
              "    </tr>\n",
              "    <tr>\n",
              "      <th>49995</th>\n",
              "      <td>0</td>\n",
              "      <td>韩国 人真 不会 拍电影  只 知道 一味 煽情</td>\n",
              "    </tr>\n",
              "    <tr>\n",
              "      <th>49996</th>\n",
              "      <td>0</td>\n",
              "      <td>这么 假</td>\n",
              "    </tr>\n",
              "    <tr>\n",
              "      <th>49997</th>\n",
              "      <td>0</td>\n",
              "      <td>韩国 文艺 产品 离得开 绝症 吗</td>\n",
              "    </tr>\n",
              "    <tr>\n",
              "      <th>49998</th>\n",
              "      <td>0</td>\n",
              "      <td>导演 执行力 太 差</td>\n",
              "    </tr>\n",
              "    <tr>\n",
              "      <th>49999</th>\n",
              "      <td>0</td>\n",
              "      <td>没 这个 必要 唉    黄昏恋 还要 浓油 赤酱 地 搞</td>\n",
              "    </tr>\n",
              "  </tbody>\n",
              "</table>\n",
              "<p>50000 rows × 2 columns</p>\n",
              "</div>\n",
              "      <button class=\"colab-df-convert\" onclick=\"convertToInteractive('df-6c067b3d-756e-4cdd-9f8f-091c4b66ee77')\"\n",
              "              title=\"Convert this dataframe to an interactive table.\"\n",
              "              style=\"display:none;\">\n",
              "        \n",
              "  <svg xmlns=\"http://www.w3.org/2000/svg\" height=\"24px\"viewBox=\"0 0 24 24\"\n",
              "       width=\"24px\">\n",
              "    <path d=\"M0 0h24v24H0V0z\" fill=\"none\"/>\n",
              "    <path d=\"M18.56 5.44l.94 2.06.94-2.06 2.06-.94-2.06-.94-.94-2.06-.94 2.06-2.06.94zm-11 1L8.5 8.5l.94-2.06 2.06-.94-2.06-.94L8.5 2.5l-.94 2.06-2.06.94zm10 10l.94 2.06.94-2.06 2.06-.94-2.06-.94-.94-2.06-.94 2.06-2.06.94z\"/><path d=\"M17.41 7.96l-1.37-1.37c-.4-.4-.92-.59-1.43-.59-.52 0-1.04.2-1.43.59L10.3 9.45l-7.72 7.72c-.78.78-.78 2.05 0 2.83L4 21.41c.39.39.9.59 1.41.59.51 0 1.02-.2 1.41-.59l7.78-7.78 2.81-2.81c.8-.78.8-2.07 0-2.86zM5.41 20L4 18.59l7.72-7.72 1.47 1.35L5.41 20z\"/>\n",
              "  </svg>\n",
              "      </button>\n",
              "      \n",
              "  <style>\n",
              "    .colab-df-container {\n",
              "      display:flex;\n",
              "      flex-wrap:wrap;\n",
              "      gap: 12px;\n",
              "    }\n",
              "\n",
              "    .colab-df-convert {\n",
              "      background-color: #E8F0FE;\n",
              "      border: none;\n",
              "      border-radius: 50%;\n",
              "      cursor: pointer;\n",
              "      display: none;\n",
              "      fill: #1967D2;\n",
              "      height: 32px;\n",
              "      padding: 0 0 0 0;\n",
              "      width: 32px;\n",
              "    }\n",
              "\n",
              "    .colab-df-convert:hover {\n",
              "      background-color: #E2EBFA;\n",
              "      box-shadow: 0px 1px 2px rgba(60, 64, 67, 0.3), 0px 1px 3px 1px rgba(60, 64, 67, 0.15);\n",
              "      fill: #174EA6;\n",
              "    }\n",
              "\n",
              "    [theme=dark] .colab-df-convert {\n",
              "      background-color: #3B4455;\n",
              "      fill: #D2E3FC;\n",
              "    }\n",
              "\n",
              "    [theme=dark] .colab-df-convert:hover {\n",
              "      background-color: #434B5C;\n",
              "      box-shadow: 0px 1px 3px 1px rgba(0, 0, 0, 0.15);\n",
              "      filter: drop-shadow(0px 1px 2px rgba(0, 0, 0, 0.3));\n",
              "      fill: #FFFFFF;\n",
              "    }\n",
              "  </style>\n",
              "\n",
              "      <script>\n",
              "        const buttonEl =\n",
              "          document.querySelector('#df-6c067b3d-756e-4cdd-9f8f-091c4b66ee77 button.colab-df-convert');\n",
              "        buttonEl.style.display =\n",
              "          google.colab.kernel.accessAllowed ? 'block' : 'none';\n",
              "\n",
              "        async function convertToInteractive(key) {\n",
              "          const element = document.querySelector('#df-6c067b3d-756e-4cdd-9f8f-091c4b66ee77');\n",
              "          const dataTable =\n",
              "            await google.colab.kernel.invokeFunction('convertToInteractive',\n",
              "                                                     [key], {});\n",
              "          if (!dataTable) return;\n",
              "\n",
              "          const docLinkHtml = 'Like what you see? Visit the ' +\n",
              "            '<a target=\"_blank\" href=https://colab.research.google.com/notebooks/data_table.ipynb>data table notebook</a>'\n",
              "            + ' to learn more about interactive tables.';\n",
              "          element.innerHTML = '';\n",
              "          dataTable['output_type'] = 'display_data';\n",
              "          await google.colab.output.renderOutput(dataTable, element);\n",
              "          const docLink = document.createElement('div');\n",
              "          docLink.innerHTML = docLinkHtml;\n",
              "          element.appendChild(docLink);\n",
              "        }\n",
              "      </script>\n",
              "    </div>\n",
              "  </div>\n",
              "  "
            ],
            "text/plain": [
              "      label                                           sentence\n",
              "0         1  当年 的 奥斯卡 颁奖礼 上  被 如日中天 的  阿甘正传  掩盖 了 它 的 光彩  而...\n",
              "1         1                                    不 需要 女主角 的 好 电影\n",
              "2         1            恐惧 让 你 沦为 囚犯  希望 让 你 重获 自由     肖申克 的 救赎\n",
              "3         1  这是 一部 男人 必看 的 电影   人人 都 这么 说  但 单纯 从 性别 区分  就 ...\n",
              "4         1                                     策划 了 19 年 的 私奔\n",
              "...     ...                                                ...\n",
              "49995     0                           韩国 人真 不会 拍电影  只 知道 一味 煽情\n",
              "49996     0                                               这么 假\n",
              "49997     0                                  韩国 文艺 产品 离得开 绝症 吗\n",
              "49998     0                                         导演 执行力 太 差\n",
              "49999     0                      没 这个 必要 唉    黄昏恋 还要 浓油 赤酱 地 搞\n",
              "\n",
              "[50000 rows x 2 columns]"
            ]
          },
          "execution_count": 360,
          "metadata": {},
          "output_type": "execute_result"
        }
      ],
      "source": [
        "douban = douban[0:50000]\n",
        "douban"
      ]
    },
    {
      "cell_type": "code",
      "execution_count": null,
      "metadata": {
        "id": "W0QXudfC2cHg"
      },
      "outputs": [],
      "source": [
        "corpus = []\n",
        "for text in douban['sentence']:\n",
        "    words = [word.lower() for word in word_tokenize(text)]\n",
        "    corpus.append(words) # 变小写 "
      ]
    },
    {
      "cell_type": "code",
      "execution_count": null,
      "metadata": {
        "colab": {
          "base_uri": "https://localhost:8080/"
        },
        "id": "O-TNKHvb3YS9",
        "outputId": "f1fc5860-8115-4a46-9b2d-a8670148c971"
      },
      "outputs": [
        {
          "name": "stdout",
          "output_type": "stream",
          "text": [
            "50000\n"
          ]
        }
      ],
      "source": [
        "num_words = len(corpus) # 获取长度\n",
        "print(num_words)"
      ]
    },
    {
      "cell_type": "code",
      "execution_count": null,
      "metadata": {
        "id": "gtC4lUTS54v3"
      },
      "outputs": [],
      "source": [
        "X_train = [str(a) for a in douban.sentence[0:40000].tolist()]"
      ]
    },
    {
      "cell_type": "code",
      "execution_count": null,
      "metadata": {
        "id": "dMdlxm4w6Ke3"
      },
      "outputs": [],
      "source": [
        "tokenizer.fit_on_texts(X_train)"
      ]
    },
    {
      "cell_type": "code",
      "execution_count": null,
      "metadata": {
        "colab": {
          "base_uri": "https://localhost:8080/"
        },
        "id": "nENj_c2M6XHV",
        "outputId": "a96ae1d6-26bc-4647-923a-5bbdade49fd9"
      },
      "outputs": [
        {
          "name": "stdout",
          "output_type": "stream",
          "text": [
            "<keras_preprocessing.text.Tokenizer object at 0x7f81604cf5d0>\n"
          ]
        }
      ],
      "source": [
        "print(tokenizer)"
      ]
    },
    {
      "cell_type": "code",
      "execution_count": null,
      "metadata": {
        "id": "UkOrgt1l6ZE3"
      },
      "outputs": [],
      "source": [
        "X_train = tokenizer.texts_to_sequences(X_train)"
      ]
    },
    {
      "cell_type": "code",
      "execution_count": null,
      "metadata": {
        "colab": {
          "base_uri": "https://localhost:8080/"
        },
        "id": "PyDJ9DEF7VKM",
        "outputId": "100adcb1-0478-43b3-b839-a27f598b80b1"
      },
      "outputs": [
        {
          "data": {
            "text/plain": [
              "[454,\n",
              " 1,\n",
              " 374,\n",
              " 30127,\n",
              " 46,\n",
              " 28,\n",
              " 21393,\n",
              " 1,\n",
              " 3102,\n",
              " 1975,\n",
              " 2,\n",
              " 89,\n",
              " 1,\n",
              " 8384,\n",
              " 58,\n",
              " 1642,\n",
              " 217,\n",
              " 1,\n",
              " 21394,\n",
              " 48,\n",
              " 6,\n",
              " 9,\n",
              " 666,\n",
              " 56,\n",
              " 1,\n",
              " 398,\n",
              " 636,\n",
              " 1,\n",
              " 1976,\n",
              " 538,\n",
              " 731,\n",
              " 2,\n",
              " 785,\n",
              " 5320,\n",
              " 227,\n",
              " 1317,\n",
              " 4,\n",
              " 9130,\n",
              " 57,\n",
              " 1091,\n",
              " 7797,\n",
              " 11062,\n",
              " 7310,\n",
              " 8371,\n",
              " 15,\n",
              " 7798,\n",
              " 578,\n",
              " 4038,\n",
              " 313,\n",
              " 12445,\n",
              " 305,\n",
              " 3026,\n",
              " 1,\n",
              " 6,\n",
              " 30128,\n",
              " 3434,\n",
              " 65,\n",
              " 375,\n",
              " 3103,\n",
              " 14,\n",
              " 1,\n",
              " 12,\n",
              " 1,\n",
              " 9131,\n",
              " 3,\n",
              " 141,\n",
              " 1860,\n",
              " 448,\n",
              " 85,\n",
              " 46,\n",
              " 43,\n",
              " 476,\n",
              " 1,\n",
              " 12446,\n",
              " 11,\n",
              " 166,\n",
              " 4506,\n",
              " 144,\n",
              " 239,\n",
              " 23,\n",
              " 12447]"
            ]
          },
          "execution_count": 367,
          "metadata": {},
          "output_type": "execute_result"
        }
      ],
      "source": [
        "X_train[0]"
      ]
    },
    {
      "cell_type": "code",
      "execution_count": null,
      "metadata": {
        "id": "Uws-YKla7IH1"
      },
      "outputs": [],
      "source": [
        "X_train = pad_sequences(X_train, maxlen = 64, truncating = 'post', padding= 'post') # padding补齐到128个token"
      ]
    },
    {
      "cell_type": "code",
      "execution_count": null,
      "metadata": {
        "colab": {
          "base_uri": "https://localhost:8080/"
        },
        "id": "KAoOmTs36hq_",
        "outputId": "1b899876-ab8e-49bb-cade-bcf3e581319b"
      },
      "outputs": [
        {
          "name": "stdout",
          "output_type": "stream",
          "text": [
            "[  454     1   374 30127    46    28 21393     1  3102  1975     2    89\n",
            "     1  8384    58  1642   217     1 21394    48     6     9   666    56\n",
            "     1   398   636     1  1976   538   731     2   785  5320   227  1317\n",
            "     4  9130    57  1091  7797 11062  7310  8371    15  7798   578  4038\n",
            "   313 12445   305  3026     1     6 30128  3434    65   375  3103    14\n",
            "     1    12     1  9131]\n"
          ]
        }
      ],
      "source": [
        "print(X_train[0])"
      ]
    },
    {
      "cell_type": "code",
      "execution_count": null,
      "metadata": {
        "id": "NbiFiq6g7nrs"
      },
      "outputs": [],
      "source": [
        "X_test = [str(a) for a in douban.sentence[40000:50000].tolist()]\n",
        "X_test = tokenizer.texts_to_sequences(X_test)\n",
        "X_test = pad_sequences(X_test, maxlen = 64, truncating = 'post', padding= 'post') # padding补齐到128个token"
      ]
    },
    {
      "cell_type": "code",
      "execution_count": null,
      "metadata": {
        "colab": {
          "base_uri": "https://localhost:8080/"
        },
        "id": "_2VjBAOo8RDz",
        "outputId": "3732efc3-11b5-479b-fe38-6f729836bae7"
      },
      "outputs": [
        {
          "name": "stdout",
          "output_type": "stream",
          "text": [
            "(40000, 64) (10000, 64)\n"
          ]
        }
      ],
      "source": [
        "print(X_train.shape, X_test.shape)"
      ]
    },
    {
      "cell_type": "code",
      "execution_count": null,
      "metadata": {
        "id": "toQHwtdx82IV"
      },
      "outputs": [],
      "source": [
        "le = LabelEncoder() # 对分类型特征值进行编码，即对不连续的数值或文本进行编码\n",
        "y_train = le.fit_transform(y_train)\n",
        "y_test = le.transform(y_test)"
      ]
    },
    {
      "cell_type": "code",
      "execution_count": null,
      "metadata": {
        "id": "3D6RP0Zf83LT"
      },
      "outputs": [],
      "source": [
        "model = Sequential()\n",
        "\n",
        "model.add(Embedding(input_dim = num_words, output_dim = 200,\n",
        "          input_length = 64, trainable = True)) # \n",
        "model.add(LSTM(200, dropout = 0.1, return_sequences = True)) # LSTM 输入100维，扔掉0.1的数据，防止过拟合\n",
        "model.add(LSTM(200, dropout = 0.1)) # 同上\n",
        "model.add(Dense(1, activation = 'sigmoid')) # 输出1维，类别变量，sigmoid作为激活函数\n",
        "\n",
        "model.compile(loss = 'binary_crossentropy', optimizer = 'adam', metrics = ['accuracy']) # 交叉熵损失，adam优化器，获取accuracy"
      ]
    },
    {
      "cell_type": "code",
      "execution_count": null,
      "metadata": {
        "colab": {
          "base_uri": "https://localhost:8080/"
        },
        "id": "kH1qunQE9KwC",
        "outputId": "d4272134-2416-4802-8969-29086d5b1645"
      },
      "outputs": [
        {
          "name": "stdout",
          "output_type": "stream",
          "text": [
            "Epoch 1/20\n",
            "200/200 [==============================] - 10s 39ms/step - loss: 0.6023 - accuracy: 0.6970 - val_loss: 0.6111 - val_accuracy: 0.6806\n",
            "Epoch 2/20\n",
            "200/200 [==============================] - 7s 34ms/step - loss: 0.5865 - accuracy: 0.6945 - val_loss: 0.5964 - val_accuracy: 0.7011\n",
            "Epoch 3/20\n",
            "200/200 [==============================] - 7s 36ms/step - loss: 0.5563 - accuracy: 0.7357 - val_loss: 0.5875 - val_accuracy: 0.7290\n",
            "Epoch 4/20\n",
            "200/200 [==============================] - 7s 36ms/step - loss: 0.5127 - accuracy: 0.7855 - val_loss: 0.5623 - val_accuracy: 0.7468\n",
            "Epoch 5/20\n",
            "200/200 [==============================] - 7s 36ms/step - loss: 0.4851 - accuracy: 0.7922 - val_loss: 0.6357 - val_accuracy: 0.6801\n",
            "Epoch 6/20\n",
            "200/200 [==============================] - 7s 36ms/step - loss: 0.5074 - accuracy: 0.7660 - val_loss: 0.6204 - val_accuracy: 0.6725\n",
            "Epoch 7/20\n",
            "200/200 [==============================] - 7s 35ms/step - loss: 0.4781 - accuracy: 0.7776 - val_loss: 0.6157 - val_accuracy: 0.6852\n",
            "Epoch 8/20\n",
            "200/200 [==============================] - 7s 35ms/step - loss: 0.4235 - accuracy: 0.8127 - val_loss: 0.6004 - val_accuracy: 0.7120\n",
            "Epoch 9/20\n",
            "200/200 [==============================] - 7s 35ms/step - loss: 0.3755 - accuracy: 0.8474 - val_loss: 0.5982 - val_accuracy: 0.7420\n",
            "Epoch 10/20\n",
            "200/200 [==============================] - 7s 35ms/step - loss: 0.3388 - accuracy: 0.8627 - val_loss: 0.5680 - val_accuracy: 0.7590\n",
            "Epoch 11/20\n",
            "200/200 [==============================] - 7s 36ms/step - loss: 0.3055 - accuracy: 0.8817 - val_loss: 0.5593 - val_accuracy: 0.7808\n",
            "Epoch 12/20\n",
            "200/200 [==============================] - 7s 36ms/step - loss: 0.2153 - accuracy: 0.9248 - val_loss: 0.6101 - val_accuracy: 0.7810\n",
            "Epoch 13/20\n",
            "200/200 [==============================] - 7s 36ms/step - loss: 0.1662 - accuracy: 0.9449 - val_loss: 0.6298 - val_accuracy: 0.7825\n",
            "Epoch 14/20\n",
            "200/200 [==============================] - 7s 36ms/step - loss: 0.1258 - accuracy: 0.9601 - val_loss: 0.6476 - val_accuracy: 0.7854\n",
            "Epoch 15/20\n",
            "200/200 [==============================] - 7s 36ms/step - loss: 0.1085 - accuracy: 0.9654 - val_loss: 0.7067 - val_accuracy: 0.7804\n",
            "Epoch 16/20\n",
            "200/200 [==============================] - 7s 35ms/step - loss: 0.0928 - accuracy: 0.9717 - val_loss: 0.7333 - val_accuracy: 0.7791\n",
            "Epoch 17/20\n",
            "200/200 [==============================] - 7s 37ms/step - loss: 0.0882 - accuracy: 0.9722 - val_loss: 0.8189 - val_accuracy: 0.7824\n",
            "Epoch 18/20\n",
            "200/200 [==============================] - 7s 37ms/step - loss: 0.0732 - accuracy: 0.9770 - val_loss: 0.8261 - val_accuracy: 0.7741\n",
            "Epoch 19/20\n",
            "200/200 [==============================] - 7s 37ms/step - loss: 0.0716 - accuracy: 0.9774 - val_loss: 0.8715 - val_accuracy: 0.7802\n",
            "Epoch 20/20\n",
            "200/200 [==============================] - 7s 37ms/step - loss: 0.0646 - accuracy: 0.9793 - val_loss: 0.8465 - val_accuracy: 0.7781\n"
          ]
        }
      ],
      "source": [
        "history = model.fit(X_train, y_train, epochs = 20, shuffle = True, batch_size = 200, validation_data = (X_test, y_test)) # 训练"
      ]
    },
    {
      "cell_type": "code",
      "execution_count": null,
      "metadata": {
        "colab": {
          "base_uri": "https://localhost:8080/",
          "height": 322
        },
        "id": "vk6TJM1OBRab",
        "outputId": "75bfdc3c-cfb5-4a6e-a24a-b5ca57ab7edb"
      },
      "outputs": [
        {
          "data": {
            "image/png": "[encoded data removed]",
            "text/plain": [
              "<Figure size 1152x360 with 1 Axes>"
            ]
          },
          "metadata": {},
          "output_type": "display_data"
        }
      ],
      "source": [
        "plt.figure(figsize=(16,5)) # 图\n",
        "epochs = range(1, len(history.history['accuracy'])+1)\n",
        "plt.plot(epochs, history.history['accuracy'], 'b', label = 'Training Accuracy', color ='red')\n",
        "plt.plot(epochs, history.history['val_accuracy'], 'b' ,label ='Validation Accuracy')\n",
        "plt.legend()\n",
        "plt.show()"
      ]
    },
    {
      "cell_type": "code",
      "execution_count": null,
      "metadata": {
        "id": "leX5aQI1Bg5Q"
      },
      "outputs": [],
      "source": [
        "tfidf = TfidfVectorizer(max_features = 10000)"
      ]
    },
    {
      "cell_type": "code",
      "execution_count": null,
      "metadata": {
        "id": "Ou2UlYI2B8UQ"
      },
      "outputs": [],
      "source": [
        "X_train = douban.sentence[0:40000]\n",
        "X_test = douban.sentence[40000:50000]\n",
        "X_train = tfidf.fit_transform(X_train) \n",
        "X_test = tfidf.fit_transform(X_test) "
      ]
    },
    {
      "cell_type": "code",
      "execution_count": null,
      "metadata": {
        "colab": {
          "base_uri": "https://localhost:8080/"
        },
        "id": "ffv0qsv5Cz_3",
        "outputId": "d355abd2-0c9a-4e43-cb9b-d8ef4936af76"
      },
      "outputs": [
        {
          "data": {
            "text/plain": [
              "LinearSVC()"
            ]
          },
          "execution_count": 404,
          "metadata": {},
          "output_type": "execute_result"
        }
      ],
      "source": [
        "clf = LinearSVC()\n",
        "clf.fit(X_train, y_train)"
      ]
    },
    {
      "cell_type": "code",
      "execution_count": null,
      "metadata": {
        "colab": {
          "base_uri": "https://localhost:8080/"
        },
        "id": "YNHACbECC3nR",
        "outputId": "dcc84e1c-ebcd-41e3-b8b7-72d720670d34"
      },
      "outputs": [
        {
          "name": "stdout",
          "output_type": "stream",
          "text": [
            "              precision    recall  f1-score   support\n",
            "\n",
            "           0       0.53      0.39      0.45      4832\n",
            "           1       0.54      0.67      0.60      5168\n",
            "\n",
            "    accuracy                           0.54     10000\n",
            "   macro avg       0.53      0.53      0.52     10000\n",
            "weighted avg       0.53      0.54      0.53     10000\n",
            "\n"
          ]
        }
      ],
      "source": [
        "y_pred = clf.predict(X_test)\n",
        "print(classification_report(y_test, y_pred))"
      ]
    }
  ],
  "metadata": {
    "accelerator": "GPU",
    "colab": {
      "collapsed_sections": [],
      "name": "Sentiment Analysis.ipynb",
      "provenance": []
    },
    "kernelspec": {
      "display_name": "Python 3",
      "name": "python3"
    },
    "language_info": {
      "name": "python"
    }
  },
  "nbformat": 4,
  "nbformat_minor": 0
}
